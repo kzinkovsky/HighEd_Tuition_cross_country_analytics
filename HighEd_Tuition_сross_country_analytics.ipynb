{
  "nbformat": 4,
  "nbformat_minor": 0,
  "metadata": {
    "colab": {
      "provenance": []
    },
    "kernelspec": {
      "name": "python3",
      "display_name": "Python 3"
    },
    "language_info": {
      "name": "python"
    }
  },
  "cells": [
    {
      "cell_type": "markdown",
      "source": [
        "## Cross-country analytics: Higher Education Tuition and Economic Indicators\n",
        "\n",
        "    Creating BigQuery tables for dashboards\n"
      ],
      "metadata": {
        "id": "Xwkk6rP6YQfQ"
      }
    },
    {
      "cell_type": "code",
      "source": [
        "# Load the required libraries\n",
        "import pandas as pd\n",
        "from google.cloud import bigquery\n",
        "import os"
      ],
      "metadata": {
        "id": "WJfD8h7UGfkc"
      },
      "execution_count": null,
      "outputs": []
    },
    {
      "cell_type": "code",
      "source": [
        "# Upload the json file with an API key to the Google Colab directory to access the BigQuery project\n",
        "json_key_file = \"json_key_file.json\"\n",
        "os.environ[\"GOOGLE_APPLICATION_CREDENTIALS\"] = json_key_file"
      ],
      "metadata": {
        "id": "swjW28ptZKpy"
      },
      "execution_count": null,
      "outputs": []
    },
    {
      "cell_type": "markdown",
      "source": [
        "a. Upload csv files to the BigQuery project"
      ],
      "metadata": {
        "id": "50qXyMR9t7Qj"
      }
    },
    {
      "cell_type": "code",
      "source": [
        "# Function to upload CSV files to the BQ project\n",
        "\n",
        "def upload_csv_to_BQ(file_path, table_id, schema=None):\n",
        "    \"\"\"\n",
        "    Parameters:\n",
        "    file_path: path to CSV file with data\n",
        "    table_id: full table ID in BQ (project_id.dataset_id.table_id)\n",
        "    schema: a table schema in needed (bigquery.SchemaField)\n",
        "    Results:\n",
        "    loaded to the BQ project csv file\n",
        "    \"\"\"\n",
        "\n",
        "    client = bigquery.Client()\n",
        "\n",
        "    job_config = bigquery.LoadJobConfig(\n",
        "        source_format=bigquery.SourceFormat.CSV,\n",
        "        autodetect=True if schema is None else False,\n",
        "        skip_leading_rows=1,\n",
        "        schema=schema,\n",
        "        write_disposition=bigquery.WriteDisposition.WRITE_EMPTY,  # Error if this tabel already exists in BQ (WRITE_APPEND: append. WRITE_TRUNCATE: overwrite)\n",
        "        field_delimiter=\";\",\n",
        "        column_name_character_map='V2'  # Turn on Character Map V2\n",
        "    )\n",
        "\n",
        "    with open(file_path, \"rb\") as file:\n",
        "        load_job = client.load_table_from_file(file, table_id, job_config=job_config)\n",
        "\n",
        "    load_job.result()\n",
        "\n",
        "    table = client.get_table(table_id)\n",
        "    print(f\"Loaded {table.num_rows} rows in the tabel {table_id}.\")"
      ],
      "metadata": {
        "id": "cKcQciuojv5w"
      },
      "execution_count": null,
      "outputs": []
    },
    {
      "cell_type": "code",
      "source": [
        "# Function to create a table schema with many consecutive years\n",
        "\n",
        "def generate_schema(start_year, end_year, first_columns=None):\n",
        "    schema = []\n",
        "\n",
        "    if first_columns:\n",
        "        schema.extend(first_columns)\n",
        "\n",
        "    for year in range(start_year, end_year + 1):\n",
        "        schema.append(bigquery.SchemaField(str(year), \"FLOAT\"))\n",
        "\n",
        "    return schema"
      ],
      "metadata": {
        "id": "VaqPRYeGHLji"
      },
      "execution_count": null,
      "outputs": []
    },
    {
      "cell_type": "code",
      "source": [
        "client = bigquery.Client()\n",
        "\n",
        "# Upload annual_tuition_fees.csv and WEOOct2024.csv\n",
        "\n",
        "upload_csv_to_BQ(file_path='annual_tuition_fees.csv', table_id='zkv-work-with-cc-pubdatasets.HighEd_Market_Indicators.annual_tuition_fees')\n",
        "upload_csv_to_BQ(file_path='WEOOct2024.csv', table_id='zkv-work-with-cc-pubdatasets.HighEd_Market_Indicators.WEOOct2024')\n",
        "\n",
        "# Generate a schema and upload OECD_NAAG_Houshold_Income_new.csv\n",
        "first_columns = [bigquery.SchemaField(\"Country\", \"STRING\")]\n",
        "start_year = 1970\n",
        "end_year = 2023\n",
        "schema = generate_schema(start_year, end_year, first_columns=first_columns)\n",
        "upload_csv_to_BQ(file_path='OECD_NAAG_Houshold_Income_new.csv',\n",
        "                 table_id='zkv-work-with-cc-pubdatasets.HighEd_Market_Indicators.OECD_NAAG_Houshold_Income',\n",
        "                 schema=schema)"
      ],
      "metadata": {
        "id": "VsxtUt4xrbcn"
      },
      "execution_count": null,
      "outputs": []
    },
    {
      "cell_type": "code",
      "source": [
        "# Check list of datasets and tables in the BigQuery project\n",
        "\n",
        "datasets = list(client.list_datasets())\n",
        "if datasets:\n",
        "    print(\"Datasets in the project:\")\n",
        "    for dataset in datasets:\n",
        "        print(f\"{dataset.dataset_id}\")\n",
        "\n",
        "        tables = list(client.list_tables(dataset.dataset_id))\n",
        "        if tables:\n",
        "          print(f\" Tables in the dataset:\")\n",
        "          for table in tables:\n",
        "              print(f\"  - {table.table_id}\")\n",
        "        else:\n",
        "          print(\" No tables in this dataset\")\n",
        "else:\n",
        "    print(\"No datasets in the project\")"
      ],
      "metadata": {
        "collapsed": true,
        "id": "RGR_0edDgV4W"
      },
      "execution_count": null,
      "outputs": []
    },
    {
      "cell_type": "markdown",
      "source": [
        "b) Transforming tables in BigQuery from wide to long"
      ],
      "metadata": {
        "id": "mrZwv0o6MTSo"
      }
    },
    {
      "cell_type": "code",
      "source": [
        "# Query to transform and create long type table OECD_NAAG_Houshold_Income for 3 years\n",
        "\n",
        "query_long_IncomeTab = \"\"\"\n",
        "CREATE OR REPLACE TABLE `zkv-work-with-cc-pubdatasets.HighEd_Market_Indicators.Long_OECD_NAAG_Houshold_Income` AS\n",
        "SELECT\n",
        "  Country,\n",
        "  Year,\n",
        "  HH_Income\n",
        "FROM\n",
        "  `zkv-work-with-cc-pubdatasets.HighEd_Market_Indicators.OECD_NAAG_Houshold_Income`,\n",
        "  UNNEST([\n",
        "    STRUCT(2017 AS Year, `2017` AS HH_Income),\n",
        "    STRUCT(2019 AS Year, `2019` AS HH_Income),\n",
        "    STRUCT(2022 AS Year, `2022` AS HH_Income)\n",
        "  ]) AS income_data\n",
        "\"\"\"\n",
        "\n",
        "client.query(query_long_IncomeTab)"
      ],
      "metadata": {
        "id": "Zz7eqwCoMaia"
      },
      "execution_count": null,
      "outputs": []
    },
    {
      "cell_type": "code",
      "source": [
        "# Query to transform and create long type table LongSample_WEOOct2024 table for lists of countries, subjects and for 3 years\n",
        "# Country: a list from annual_tuition_fees\n",
        "# Years: 2017, 2019, 2022\n",
        "# WEO Subject Code:\n",
        "#  PPPGDP - Gross domestic product, current prices. Purchasing power parity; international dollars\n",
        "#  PPPPC - Gross domestic product per capita, current prices. Purchasing power parity; international dollars\n",
        "#  NID_NGDP - Total investment. Percent of GDP\n",
        "#  LUR - Unemployment rate. Percent of total labor force\n",
        "\n",
        "query_long_weo = \"\"\"\n",
        "\n",
        "CREATE OR REPLACE TABLE `zkv-work-with-cc-pubdatasets.HighEd_Market_Indicators.LongSample_WEOOct2024` AS\n",
        "\n",
        "WITH\n",
        "\n",
        "-- Temp table 1 for GDP\n",
        "gdp_data AS(\n",
        "  SELECT *\n",
        "  FROM `zkv-work-with-cc-pubdatasets.HighEd_Market_Indicators.WEOOct2024`\n",
        "  WHERE `WEO Subject Code` IN ('PPPGDP')\n",
        "  AND Country IN (SELECT DISTINCT Country FROM `zkv-work-with-cc-pubdatasets.HighEd_Market_Indicators.annual_tuition_fees`)\n",
        "  ),\n",
        "gdp_long AS(\n",
        "  SELECT Country, Year, GDP\n",
        "  FROM gdp_data,\n",
        "  UNNEST([\n",
        "    STRUCT(2017 AS Year, `2017` AS GDP),\n",
        "    STRUCT(2019 AS Year, `2019` AS GDP),\n",
        "    STRUCT(2022 AS Year, `2022` AS GDP)\n",
        "  ]) AS gdp_plus\n",
        "  ),\n",
        "\n",
        "-- Temp table 2 for GDPpc\n",
        "gdppc_data AS(\n",
        "  SELECT *\n",
        "  FROM `zkv-work-with-cc-pubdatasets.HighEd_Market_Indicators.WEOOct2024`\n",
        "  WHERE `WEO Subject Code` IN ('PPPPC')\n",
        "  AND Country IN (SELECT DISTINCT Country FROM `zkv-work-with-cc-pubdatasets.HighEd_Market_Indicators.annual_tuition_fees`)\n",
        "  ),\n",
        "gdppc_long AS(\n",
        "  SELECT Country, Year, GDPpc\n",
        "  FROM gdppc_data,\n",
        "  UNNEST([\n",
        "    STRUCT(2017 AS Year, `2017` AS GDPpc),\n",
        "    STRUCT(2019 AS Year, `2019` AS GDPpc),\n",
        "    STRUCT(2022 AS Year, `2022` AS GDPpc)\n",
        "  ]) AS gdppc_plus\n",
        "  ),\n",
        "\n",
        "-- Temp table 3 for Investment\n",
        "investment_data AS(\n",
        "  SELECT *\n",
        "  FROM `zkv-work-with-cc-pubdatasets.HighEd_Market_Indicators.WEOOct2024`\n",
        "  WHERE `WEO Subject Code` IN ('NID_NGDP')\n",
        "  AND Country IN (SELECT DISTINCT Country FROM `zkv-work-with-cc-pubdatasets.HighEd_Market_Indicators.annual_tuition_fees`)\n",
        "  ),\n",
        "investment_long AS(\n",
        "  SELECT Country, Year, Investment\n",
        "  FROM investment_data,\n",
        "  UNNEST([\n",
        "    STRUCT(2017 AS Year, `2017` AS Investment),\n",
        "    STRUCT(2019 AS Year, `2019` AS Investment),\n",
        "    STRUCT(2022 AS Year, `2022` AS Investment)\n",
        "  ]) AS investment_plus\n",
        "  ),\n",
        "\n",
        "-- Temp table 4 for Unemployment\n",
        "unemployment_data AS(\n",
        "  SELECT *\n",
        "  FROM `zkv-work-with-cc-pubdatasets.HighEd_Market_Indicators.WEOOct2024`\n",
        "  WHERE `WEO Subject Code` IN ('LUR')\n",
        "  AND Country IN (SELECT DISTINCT Country FROM `zkv-work-with-cc-pubdatasets.HighEd_Market_Indicators.annual_tuition_fees`)\n",
        "  ),\n",
        "unemployment_long AS(\n",
        "  SELECT Country, Year, Unemployment\n",
        "  FROM unemployment_data,\n",
        "  UNNEST([\n",
        "    STRUCT(2017 AS Year, `2017` AS Unemployment),\n",
        "    STRUCT(2019 AS Year, `2019` AS Unemployment),\n",
        "    STRUCT(2022 AS Year, `2022` AS Unemployment)\n",
        "  ]) AS unemployment_plus\n",
        "  )\n",
        "\n",
        "-- Joining all the tables\n",
        "SELECT\n",
        "  gdp_long.Country,\n",
        "  gdp_long.Year,\n",
        "  gdp_long.GDP,\n",
        "  gdppc_long.GDPpc,\n",
        "  investment_long.Investment,\n",
        "  unemployment_long.Unemployment\n",
        "FROM\n",
        "  gdp_long\n",
        "LEFT JOIN\n",
        "  gdppc_long\n",
        "  ON gdp_long.Country = gdppc_long.Country AND gdp_long.Year = gdppc_long.Year\n",
        "LEFT JOIN\n",
        "  investment_long\n",
        "  ON gdp_long.Country = investment_long.Country AND gdp_long.Year = investment_long.Year\n",
        "LEFT JOIN\n",
        "  unemployment_long\n",
        "  ON gdp_long.Country = unemployment_long.Country AND gdp_long.Year = unemployment_long.Year\n",
        "\n",
        "\"\"\"\n",
        "\n",
        "client.query(query_long_weo)"
      ],
      "metadata": {
        "id": "qG-hkDosPans"
      },
      "execution_count": null,
      "outputs": []
    }
  ]
}